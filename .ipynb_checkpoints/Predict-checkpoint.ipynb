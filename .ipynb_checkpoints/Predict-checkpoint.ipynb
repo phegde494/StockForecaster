{
 "cells": [
  {
   "cell_type": "code",
   "execution_count": 93,
   "id": "d78f29f4",
   "metadata": {},
   "outputs": [],
   "source": [
    "import pandas as pd\n",
    "import numpy as np\n",
    "import matplotlib.pyplot as plt\n",
    "from sklearn.preprocessing import MinMaxScaler\n",
    "import math, copy"
   ]
  },
  {
   "cell_type": "code",
   "execution_count": 94,
   "id": "44f83e40",
   "metadata": {},
   "outputs": [],
   "source": [
    "df = pd.read_csv(\"GOOG.csv\")"
   ]
  },
  {
   "cell_type": "code",
   "execution_count": 95,
   "id": "40c1b470",
   "metadata": {},
   "outputs": [
    {
     "data": {
      "text/html": [
       "<div>\n",
       "<style scoped>\n",
       "    .dataframe tbody tr th:only-of-type {\n",
       "        vertical-align: middle;\n",
       "    }\n",
       "\n",
       "    .dataframe tbody tr th {\n",
       "        vertical-align: top;\n",
       "    }\n",
       "\n",
       "    .dataframe thead th {\n",
       "        text-align: right;\n",
       "    }\n",
       "</style>\n",
       "<table border=\"1\" class=\"dataframe\">\n",
       "  <thead>\n",
       "    <tr style=\"text-align: right;\">\n",
       "      <th></th>\n",
       "      <th>Date</th>\n",
       "      <th>Low</th>\n",
       "      <th>Open</th>\n",
       "      <th>Volume</th>\n",
       "      <th>High</th>\n",
       "      <th>Close</th>\n",
       "      <th>Adjusted Close</th>\n",
       "    </tr>\n",
       "  </thead>\n",
       "  <tbody>\n",
       "    <tr>\n",
       "      <th>0</th>\n",
       "      <td>19-08-2004</td>\n",
       "      <td>2.390042</td>\n",
       "      <td>2.490664</td>\n",
       "      <td>897427216</td>\n",
       "      <td>2.591785</td>\n",
       "      <td>2.499133</td>\n",
       "      <td>2.499133</td>\n",
       "    </tr>\n",
       "    <tr>\n",
       "      <th>1</th>\n",
       "      <td>20-08-2004</td>\n",
       "      <td>2.503118</td>\n",
       "      <td>2.515820</td>\n",
       "      <td>458857488</td>\n",
       "      <td>2.716817</td>\n",
       "      <td>2.697639</td>\n",
       "      <td>2.697639</td>\n",
       "    </tr>\n",
       "    <tr>\n",
       "      <th>2</th>\n",
       "      <td>23-08-2004</td>\n",
       "      <td>2.716070</td>\n",
       "      <td>2.758411</td>\n",
       "      <td>366857939</td>\n",
       "      <td>2.826406</td>\n",
       "      <td>2.724787</td>\n",
       "      <td>2.724787</td>\n",
       "    </tr>\n",
       "    <tr>\n",
       "      <th>3</th>\n",
       "      <td>24-08-2004</td>\n",
       "      <td>2.579581</td>\n",
       "      <td>2.770615</td>\n",
       "      <td>306396159</td>\n",
       "      <td>2.779581</td>\n",
       "      <td>2.611960</td>\n",
       "      <td>2.611960</td>\n",
       "    </tr>\n",
       "    <tr>\n",
       "      <th>4</th>\n",
       "      <td>25-08-2004</td>\n",
       "      <td>2.587302</td>\n",
       "      <td>2.614201</td>\n",
       "      <td>184645512</td>\n",
       "      <td>2.689918</td>\n",
       "      <td>2.640104</td>\n",
       "      <td>2.640104</td>\n",
       "    </tr>\n",
       "  </tbody>\n",
       "</table>\n",
       "</div>"
      ],
      "text/plain": [
       "         Date       Low      Open     Volume      High     Close  \\\n",
       "0  19-08-2004  2.390042  2.490664  897427216  2.591785  2.499133   \n",
       "1  20-08-2004  2.503118  2.515820  458857488  2.716817  2.697639   \n",
       "2  23-08-2004  2.716070  2.758411  366857939  2.826406  2.724787   \n",
       "3  24-08-2004  2.579581  2.770615  306396159  2.779581  2.611960   \n",
       "4  25-08-2004  2.587302  2.614201  184645512  2.689918  2.640104   \n",
       "\n",
       "   Adjusted Close  \n",
       "0        2.499133  \n",
       "1        2.697639  \n",
       "2        2.724787  \n",
       "3        2.611960  \n",
       "4        2.640104  "
      ]
     },
     "execution_count": 95,
     "metadata": {},
     "output_type": "execute_result"
    }
   ],
   "source": [
    "df.head()"
   ]
  },
  {
   "cell_type": "markdown",
   "id": "1e8df2f9",
   "metadata": {},
   "source": [
    "### Let's try to build a model that'll predict the closing price on a certain day. A few potentially relevant factors are time, however we may measure that, the price when the market opens that day, and the number of shares that were traded in the market the previous day."
   ]
  },
  {
   "cell_type": "code",
   "execution_count": 96,
   "id": "05710d70",
   "metadata": {},
   "outputs": [
    {
     "data": {
      "text/html": [
       "<div>\n",
       "<style scoped>\n",
       "    .dataframe tbody tr th:only-of-type {\n",
       "        vertical-align: middle;\n",
       "    }\n",
       "\n",
       "    .dataframe tbody tr th {\n",
       "        vertical-align: top;\n",
       "    }\n",
       "\n",
       "    .dataframe thead th {\n",
       "        text-align: right;\n",
       "    }\n",
       "</style>\n",
       "<table border=\"1\" class=\"dataframe\">\n",
       "  <thead>\n",
       "    <tr style=\"text-align: right;\">\n",
       "      <th></th>\n",
       "      <th>Date</th>\n",
       "      <th>Low</th>\n",
       "      <th>Open</th>\n",
       "      <th>Volume</th>\n",
       "      <th>High</th>\n",
       "      <th>Close</th>\n",
       "      <th>Adjusted Close</th>\n",
       "    </tr>\n",
       "  </thead>\n",
       "  <tbody>\n",
       "    <tr>\n",
       "      <th>4607</th>\n",
       "      <td>06-12-2022</td>\n",
       "      <td>96.760002</td>\n",
       "      <td>99.669998</td>\n",
       "      <td>20877600</td>\n",
       "      <td>100.209999</td>\n",
       "      <td>97.309998</td>\n",
       "      <td>97.309998</td>\n",
       "    </tr>\n",
       "    <tr>\n",
       "      <th>4608</th>\n",
       "      <td>07-12-2022</td>\n",
       "      <td>95.025002</td>\n",
       "      <td>96.769997</td>\n",
       "      <td>26647900</td>\n",
       "      <td>97.309998</td>\n",
       "      <td>95.150002</td>\n",
       "      <td>95.150002</td>\n",
       "    </tr>\n",
       "    <tr>\n",
       "      <th>4609</th>\n",
       "      <td>08-12-2022</td>\n",
       "      <td>93.800003</td>\n",
       "      <td>95.690002</td>\n",
       "      <td>25593200</td>\n",
       "      <td>95.870003</td>\n",
       "      <td>93.949997</td>\n",
       "      <td>93.949997</td>\n",
       "    </tr>\n",
       "    <tr>\n",
       "      <th>4610</th>\n",
       "      <td>09-12-2022</td>\n",
       "      <td>93.019997</td>\n",
       "      <td>93.900002</td>\n",
       "      <td>21873700</td>\n",
       "      <td>94.489998</td>\n",
       "      <td>93.070000</td>\n",
       "      <td>93.070000</td>\n",
       "    </tr>\n",
       "    <tr>\n",
       "      <th>4611</th>\n",
       "      <td>12-12-2022</td>\n",
       "      <td>91.900002</td>\n",
       "      <td>93.089996</td>\n",
       "      <td>7626857</td>\n",
       "      <td>93.874496</td>\n",
       "      <td>92.474998</td>\n",
       "      <td>92.474998</td>\n",
       "    </tr>\n",
       "  </tbody>\n",
       "</table>\n",
       "</div>"
      ],
      "text/plain": [
       "            Date        Low       Open    Volume        High      Close  \\\n",
       "4607  06-12-2022  96.760002  99.669998  20877600  100.209999  97.309998   \n",
       "4608  07-12-2022  95.025002  96.769997  26647900   97.309998  95.150002   \n",
       "4609  08-12-2022  93.800003  95.690002  25593200   95.870003  93.949997   \n",
       "4610  09-12-2022  93.019997  93.900002  21873700   94.489998  93.070000   \n",
       "4611  12-12-2022  91.900002  93.089996   7626857   93.874496  92.474998   \n",
       "\n",
       "      Adjusted Close  \n",
       "4607       97.309998  \n",
       "4608       95.150002  \n",
       "4609       93.949997  \n",
       "4610       93.070000  \n",
       "4611       92.474998  "
      ]
     },
     "execution_count": 96,
     "metadata": {},
     "output_type": "execute_result"
    }
   ],
   "source": [
    "df.tail()"
   ]
  },
  {
   "cell_type": "code",
   "execution_count": 97,
   "id": "905c9ef2",
   "metadata": {},
   "outputs": [
    {
     "data": {
      "text/html": [
       "<div>\n",
       "<style scoped>\n",
       "    .dataframe tbody tr th:only-of-type {\n",
       "        vertical-align: middle;\n",
       "    }\n",
       "\n",
       "    .dataframe tbody tr th {\n",
       "        vertical-align: top;\n",
       "    }\n",
       "\n",
       "    .dataframe thead th {\n",
       "        text-align: right;\n",
       "    }\n",
       "</style>\n",
       "<table border=\"1\" class=\"dataframe\">\n",
       "  <thead>\n",
       "    <tr style=\"text-align: right;\">\n",
       "      <th></th>\n",
       "      <th>Open</th>\n",
       "      <th>Close</th>\n",
       "      <th>Yesterday's Volume</th>\n",
       "      <th>Days Since Public</th>\n",
       "    </tr>\n",
       "  </thead>\n",
       "  <tbody>\n",
       "    <tr>\n",
       "      <th>1</th>\n",
       "      <td>0.025158</td>\n",
       "      <td>0.026976</td>\n",
       "      <td>8.974272</td>\n",
       "      <td>0.000143</td>\n",
       "    </tr>\n",
       "    <tr>\n",
       "      <th>2</th>\n",
       "      <td>0.027584</td>\n",
       "      <td>0.027248</td>\n",
       "      <td>4.588575</td>\n",
       "      <td>0.000571</td>\n",
       "    </tr>\n",
       "    <tr>\n",
       "      <th>3</th>\n",
       "      <td>0.027706</td>\n",
       "      <td>0.026120</td>\n",
       "      <td>3.668579</td>\n",
       "      <td>0.000714</td>\n",
       "    </tr>\n",
       "  </tbody>\n",
       "</table>\n",
       "</div>"
      ],
      "text/plain": [
       "       Open     Close  Yesterday's Volume  Days Since Public\n",
       "1  0.025158  0.026976            8.974272           0.000143\n",
       "2  0.027584  0.027248            4.588575           0.000571\n",
       "3  0.027706  0.026120            3.668579           0.000714"
      ]
     },
     "execution_count": 97,
     "metadata": {},
     "output_type": "execute_result"
    }
   ],
   "source": [
    "scaler = MinMaxScaler()\n",
    "\n",
    "df[\"Open\"] = df[[\"Open\"]] / 100\n",
    "\n",
    "df[\"Yesterday's Volume\"] = df['Volume'].shift()\n",
    "df[\"Yesterday's Volume\"] = df[[\"Yesterday's Volume\"]]/100000000\n",
    "\n",
    "\n",
    "ipo_date = pd.to_datetime('19-08-2004', dayfirst = True)\n",
    "\n",
    "df[\"Days Since Public\"] = (pd.to_datetime(df[\"Date\"], dayfirst = True) - ipo_date).dt.days\n",
    "\n",
    "df[\"Days Since Public\"] = df[[\"Days Since Public\"]]/7000\n",
    "\n",
    "df = df.drop([0])\n",
    "\n",
    "df = df.drop(['High'], axis = 1)\n",
    "df = df.drop(['Volume'], axis = 1)\n",
    "df = df.drop(['Low'], axis = 1)\n",
    "df = df.drop(['Adjusted Close'], axis = 1)\n",
    "df = df.drop(['Date'], axis = 1)\n",
    "\n",
    "df[\"Close\"] = df[[\"Close\"]] / 100\n",
    "\n",
    "df.head(3)\n",
    "# Normalized the data we care about\n"
   ]
  },
  {
   "cell_type": "code",
   "execution_count": 98,
   "id": "8511ba36",
   "metadata": {},
   "outputs": [
    {
     "data": {
      "text/html": [
       "<div>\n",
       "<style scoped>\n",
       "    .dataframe tbody tr th:only-of-type {\n",
       "        vertical-align: middle;\n",
       "    }\n",
       "\n",
       "    .dataframe tbody tr th {\n",
       "        vertical-align: top;\n",
       "    }\n",
       "\n",
       "    .dataframe thead th {\n",
       "        text-align: right;\n",
       "    }\n",
       "</style>\n",
       "<table border=\"1\" class=\"dataframe\">\n",
       "  <thead>\n",
       "    <tr style=\"text-align: right;\">\n",
       "      <th></th>\n",
       "      <th>Open</th>\n",
       "      <th>Close</th>\n",
       "      <th>Yesterday's Volume</th>\n",
       "      <th>Days Since Public</th>\n",
       "    </tr>\n",
       "  </thead>\n",
       "  <tbody>\n",
       "    <tr>\n",
       "      <th>4609</th>\n",
       "      <td>0.9569</td>\n",
       "      <td>0.93950</td>\n",
       "      <td>0.266479</td>\n",
       "      <td>0.955000</td>\n",
       "    </tr>\n",
       "    <tr>\n",
       "      <th>4610</th>\n",
       "      <td>0.9390</td>\n",
       "      <td>0.93070</td>\n",
       "      <td>0.255932</td>\n",
       "      <td>0.955143</td>\n",
       "    </tr>\n",
       "    <tr>\n",
       "      <th>4611</th>\n",
       "      <td>0.9309</td>\n",
       "      <td>0.92475</td>\n",
       "      <td>0.218737</td>\n",
       "      <td>0.955571</td>\n",
       "    </tr>\n",
       "  </tbody>\n",
       "</table>\n",
       "</div>"
      ],
      "text/plain": [
       "        Open    Close  Yesterday's Volume  Days Since Public\n",
       "4609  0.9569  0.93950            0.266479           0.955000\n",
       "4610  0.9390  0.93070            0.255932           0.955143\n",
       "4611  0.9309  0.92475            0.218737           0.955571"
      ]
     },
     "execution_count": 98,
     "metadata": {},
     "output_type": "execute_result"
    }
   ],
   "source": [
    "df.tail(3)"
   ]
  },
  {
   "cell_type": "code",
   "execution_count": 99,
   "id": "1546dde9",
   "metadata": {},
   "outputs": [],
   "source": [
    "\n",
    "X = df.drop([\"Close\"], axis = 1).to_numpy()\n",
    "y = df[\"Close\"].to_numpy()"
   ]
  },
  {
   "cell_type": "markdown",
   "id": "f7c53678",
   "metadata": {},
   "source": [
    "### Now, we have all our data in arrays and are ready to start training our model."
   ]
  },
  {
   "cell_type": "code",
   "execution_count": 100,
   "id": "a14af8bc",
   "metadata": {},
   "outputs": [],
   "source": [
    "# Get cost function's value with a given model and our data\n",
    "# Least squares\n",
    "def compute_cost(X, y, w, b):\n",
    "    m = X.shape[0]\n",
    "    cost = 0.0\n",
    "    for i in range(m):                                \n",
    "        y_hat = np.dot(X[i], w) + b\n",
    "        cost = cost + (y_hat - y[i])**2\n",
    "    cost = cost / (2 * m)           \n",
    "    return cost"
   ]
  },
  {
   "cell_type": "code",
   "execution_count": 101,
   "id": "20537397",
   "metadata": {},
   "outputs": [],
   "source": [
    "# Gets the gradient vector for w and gradient for b\n",
    "# We're using least squares for cost...\n",
    "# --> cost = 1/2m * sum(err(i)^2), so gradient = 1/m * sum(err(i))\n",
    "def compute_gradient(X, y, w, b): \n",
    "    m,n = X.shape           # Number of training points, number of factors for each point\n",
    "    w_gradient = np.zeros((n))\n",
    "    b_gradient = 0.0\n",
    "\n",
    "    for i in range(m):                             \n",
    "        error = (np.dot(X[i], w) + b) - y[i]   \n",
    "        for j in range(n):                         \n",
    "            w_gradient[j] = w_gradient[j] + error * X[i, j]    \n",
    "        b_gradient = b_gradient + error                        \n",
    "    w_gradient = w_gradient / m                                \n",
    "    b_gradient = b_gradient / m                                \n",
    "        \n",
    "    return w_gradient, b_gradient\n"
   ]
  },
  {
   "cell_type": "code",
   "execution_count": 102,
   "id": "e4d506cd",
   "metadata": {},
   "outputs": [],
   "source": [
    "def train_model(X, y, w, b, alpha, iters):\n",
    "    \n",
    "    cost_arr = []\n",
    "    for i in range(iters):\n",
    "        cost = compute_cost(X, y, w, b)\n",
    "        if (i < 10000):\n",
    "            cost_arr.append(cost)\n",
    "        w_gradient, b_gradient = compute_gradient(X, y, w, b)\n",
    "        \n",
    "        w = w - alpha * w_gradient\n",
    "        b = b - alpha * b_gradient\n",
    "    return w, b, cost_arr"
   ]
  },
  {
   "cell_type": "code",
   "execution_count": 103,
   "id": "f28ea1ec",
   "metadata": {},
   "outputs": [
    {
     "name": "stdout",
     "output_type": "stream",
     "text": [
      "[0.89663302 0.01121239 0.17840485] -0.06083208070261468\n"
     ]
    }
   ],
   "source": [
    "init_w = [0, 0, 0]\n",
    "init_b = 0\n",
    "learning_rate = 0.01\n",
    "final_w, final_b, cost_arr = train_model(X, y, init_w, init_b, learning_rate, 10000)\n",
    "\n",
    "\n",
    "print(final_w, final_b)"
   ]
  },
  {
   "cell_type": "code",
   "execution_count": 104,
   "id": "2ded8c23",
   "metadata": {},
   "outputs": [
    {
     "data": {
      "text/plain": [
       "[<matplotlib.lines.Line2D at 0x7fa0002489d0>]"
      ]
     },
     "execution_count": 104,
     "metadata": {},
     "output_type": "execute_result"
    },
    {
     "data": {
      "image/png": "[encoded data removed]",
      "text/plain": [
       "<Figure size 640x480 with 1 Axes>"
      ]
     },
     "metadata": {},
     "output_type": "display_data"
    }
   ],
   "source": [
    "plt.plot(cost_arr[:1000])"
   ]
  },
  {
   "cell_type": "code",
   "execution_count": 105,
   "id": "81546127",
   "metadata": {},
   "outputs": [
    {
     "name": "stdout",
     "output_type": "stream",
     "text": [
      "0.13208902743922057 0.0054327852434119745\n"
     ]
    }
   ],
   "source": [
    "print(cost_arr[0], cost_arr[999])"
   ]
  },
  {
   "cell_type": "code",
   "execution_count": 107,
   "id": "470fbaa6",
   "metadata": {},
   "outputs": [],
   "source": [
    "def predict(x):\n",
    "    return np.dot(x, final_w) + final_b"
   ]
  },
  {
   "cell_type": "markdown",
   "id": "7d1784d9",
   "metadata": {},
   "source": [
    "Let's make a prediction and see how it goes. On March 7th, 2023, the opening price was 95.42 USD, the previous day's volume was 28,288,200 shares, and 6,774 days had passed since the ipo date."
   ]
  },
  {
   "cell_type": "code",
   "execution_count": 108,
   "id": "a3c09d0d",
   "metadata": {},
   "outputs": [
    {
     "name": "stdout",
     "output_type": "stream",
     "text": [
      "Predicted closing price: 97.05518539157788 USD\n"
     ]
    }
   ],
   "source": [
    "normalized_open = 95.42/100\n",
    "normalized_prev_day_vol = 28288200/100000000\n",
    "normalized_days = 6774/7000\n",
    "march_7 = np.array([normalized_open, normalized_prev_day_vol, normalized_days])\n",
    "print(\"Predicted closing price: \" + str(predict(march_7) * 100) + \" USD\")"
   ]
  },
  {
   "cell_type": "code",
   "execution_count": null,
   "id": "60929917",
   "metadata": {},
   "outputs": [],
   "source": []
  }
 ],
 "metadata": {
  "kernelspec": {
   "display_name": "Python 3 (ipykernel)",
   "language": "python",
   "name": "python3"
  },
  "language_info": {
   "codemirror_mode": {
    "name": "ipython",
    "version": 3
   },
   "file_extension": ".py",
   "mimetype": "text/x-python",
   "name": "python",
   "nbconvert_exporter": "python",
   "pygments_lexer": "ipython3",
   "version": "3.9.13"
  }
 },
 "nbformat": 4,
 "nbformat_minor": 5
}
